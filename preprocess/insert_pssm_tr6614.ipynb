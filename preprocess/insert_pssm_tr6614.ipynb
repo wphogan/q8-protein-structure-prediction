{
 "cells": [
  {
   "cell_type": "code",
   "execution_count": 1,
   "metadata": {},
   "outputs": [],
   "source": [
    "import numpy as np"
   ]
  },
  {
   "cell_type": "code",
   "execution_count": 2,
   "metadata": {},
   "outputs": [],
   "source": [
    "data = []\n",
    "with open(\"TR6614-fasta_labels2.txt\", \"r\") as f:\n",
    "    for line in f:\n",
    "        data.append(line.rstrip(\"\\n\"))"
   ]
  },
  {
   "cell_type": "code",
   "execution_count": 3,
   "metadata": {},
   "outputs": [],
   "source": [
    "data = np.array(data)"
   ]
  },
  {
   "cell_type": "code",
   "execution_count": 4,
   "metadata": {},
   "outputs": [],
   "source": [
    "inds = np.where(data=='')"
   ]
  },
  {
   "cell_type": "code",
   "execution_count": 5,
   "metadata": {},
   "outputs": [],
   "source": [
    "data = np.delete(data, inds)"
   ]
  },
  {
   "cell_type": "code",
   "execution_count": 6,
   "metadata": {},
   "outputs": [],
   "source": [
    "start = 0\n",
    "end = 19840"
   ]
  },
  {
   "cell_type": "code",
   "execution_count": 7,
   "metadata": {},
   "outputs": [],
   "source": [
    "pmap = {\"X\": [],\n",
    "        \"Y\": []}"
   ]
  },
  {
   "cell_type": "code",
   "execution_count": 8,
   "metadata": {},
   "outputs": [],
   "source": [
    "for i in np.arange(start, end, step=3):\n",
    "    title = data[i]\n",
    "    proteins = data[i + 1]\n",
    "    labels = data[i + 2]\n",
    "    \n",
    "    pmap[\"X\"].append(proteins)\n",
    "    pmap[\"Y\"].append(labels)"
   ]
  },
  {
   "cell_type": "code",
   "execution_count": 9,
   "metadata": {},
   "outputs": [],
   "source": [
    "id_to_acid = ['A', 'C', 'E', 'D', 'G', 'F', 'I', 'H', 'K', 'M', 'L', 'N', 'Q', 'P', 'S', 'R', 'T', 'W', 'V', 'Y', 'X', 'pad']\n",
    "id_to_label = ['L', 'B', 'E', 'G', 'I', 'H', 'S', 'T', 'pad']\n",
    "\n",
    "ppDict={\"A\":[1.28,0.05,1.0,0.31,6.11,0.42,0.23],  \"G\":[0.00,0.00,0.0,0.00,6.07,0.13,0.15],\n",
    "        \"V\":[3.67,0.14,3.0,1.22,6.02,0.27,0.49],  \"L\":[2.59,0.19,4.0,1.70,6.04,0.39,0.31],\n",
    "        \"I\":[4.19,0.19,4.0,1.80,6.04,0.30,0.45],  \"F\":[2.94,0.29,5.89,1.79,5.67,0.3,0.38],\n",
    "        \"Y\":[2.94,0.3,6.47,0.96,5.66,0.25,0.41],  \"W\":[3.21,0.41,8.08,2.25,5.94,0.32,0.42],\n",
    "        \"T\":[3.03,0.11,2.60,0.26,5.6,0.21,0.36],  \"S\":[1.31,0.06,1.6,-0.04,5.7,0.20,0.28],\n",
    "        \"R\":[2.34,0.29,6.13,-1.01,10.74,0.36,0.25],\"K\":[1.89,0.22,4.77,-0.99,9.99,0.32,0.27],\n",
    "        \"H\":[2.99,0.23,4.66,0.13,7.69,0.27,0.3],   \"D\":[1.6,0.11,2.78,-0.77,2.95,0.25,0.20],\n",
    "        \"E\":[1.56,0.15,3.78,-0.64,3.09,0.42,0.21], \"N\":[1.6,0.13,2.95,-0.6,6.52,0.21,0.22],\n",
    "        \"Q\":[1.56,0.18,3.95,-0.22,5.65,0.36,0.25], \"M\":[2.35,0.22,4.43,1.23,5.71,0.38,0.32],\n",
    "        \"P\":[2.67,0.0,2.72,0.72,6.8,0.13,0.34],    \"C\":[1.77,0.13,2.43,1.54,6.35,0.17,0.41],\n",
    "        \"X\":[0, 0, 0, 0, 0, 0, 0], \"pad\": [0, 0, 0, 0, 0, 0, 0]}\n",
    "\n",
    "protein_to_id = {id_to_acid[i]: i for i in range(len(id_to_acid))}\n",
    "label_to_id = {id_to_label[i]: i for i in range(len(id_to_label))}\n",
    "noseq_id_acid = 21\n",
    "noseq_id_label = 8"
   ]
  },
  {
   "cell_type": "code",
   "execution_count": 34,
   "metadata": {},
   "outputs": [],
   "source": [
    "def create_new_encoding(pmap, pssm_data):\n",
    "    formatted_data = {}\n",
    "    \n",
    "    for i in range(len(pmap[\"X\"])):\n",
    "        secondary_structure_onehot = []\n",
    "        primary_structure = \"\"\n",
    "        secondary_structure = \"\"\n",
    "        new_encoding = []\n",
    "        \n",
    "        primary_structure = pmap[\"X\"][i]\n",
    "        secondary_structure = pmap[\"Y\"][i]\n",
    "        \n",
    "        protein_length = len(primary_structure)\n",
    "        padding_length = 700 - protein_length\n",
    "        \n",
    "        for j, (x, y) in enumerate(zip(primary_structure, secondary_structure)):\n",
    "            primary_onehot = [0] * 22\n",
    "            secondary_onehot = [0] * 9\n",
    "            \n",
    "            primary_onehot[protein_to_id[x]] = 1\n",
    "            secondary_onehot[label_to_id[y]] = 1\n",
    "            \n",
    "            acid_properties = ppDict[x]\n",
    "            # json cannot serialize numpy float32\n",
    "            pssm_and_conservation = [float(v) for v in list(pssm_data[i][j])]\n",
    "            \n",
    "            new_encoding += primary_onehot\n",
    "            new_encoding += list(acid_properties)\n",
    "            new_encoding += pssm_and_conservation\n",
    "            secondary_structure_onehot += secondary_onehot\n",
    "            \n",
    "        for _ in range(padding_length):\n",
    "            primary_onehot = [0.] * 22\n",
    "            primary_onehot[-1] = 1\n",
    "            \n",
    "            secondary_onehot = [0] * 9\n",
    "            secondary_onehot[-1] = 1\n",
    "            \n",
    "            acid_properties = list(ppDict[\"pad\"])\n",
    "            pssm_and_conservation = [0] * 22\n",
    "            \n",
    "            new_encoding += primary_onehot\n",
    "            new_encoding += list(acid_properties)\n",
    "            new_encoding += pssm_and_conservation\n",
    "            secondary_structure_onehot += secondary_onehot\n",
    "            \n",
    "        \n",
    "        if i % 100 == 0:\n",
    "            print(i)\n",
    "\n",
    "        i = str(i)\n",
    "        formatted_data[i] = {}\n",
    "        formatted_data[i][\"protein_encoding\"] = new_encoding\n",
    "        formatted_data[i][\"protein_length\"] = protein_length\n",
    "        formatted_data[i][\"secondary_structure_onehot\"] = secondary_structure_onehot\n",
    "        formatted_data[i][\"secondary_structure\"] = secondary_structure\n",
    "        formatted_data[i][\"primary_structure\"] = primary_structure\n",
    "\n",
    "    return formatted_data"
   ]
  },
  {
   "cell_type": "code",
   "execution_count": 35,
   "metadata": {},
   "outputs": [
    {
     "name": "stdout",
     "output_type": "stream",
     "text": [
      "0\n",
      "100\n",
      "200\n",
      "300\n",
      "400\n",
      "500\n",
      "600\n",
      "700\n",
      "800\n",
      "900\n",
      "1000\n",
      "1100\n",
      "1200\n",
      "1300\n",
      "1400\n",
      "1500\n",
      "1600\n",
      "1700\n",
      "1800\n",
      "1900\n",
      "2000\n",
      "2100\n",
      "2200\n",
      "2300\n",
      "2400\n",
      "2500\n",
      "2600\n",
      "2700\n",
      "2800\n",
      "2900\n",
      "3000\n",
      "3100\n",
      "3200\n",
      "3300\n",
      "3400\n",
      "3500\n",
      "3600\n",
      "3700\n",
      "3800\n",
      "3900\n",
      "4000\n",
      "4100\n",
      "4200\n",
      "4300\n",
      "4400\n",
      "4500\n",
      "4600\n",
      "4700\n",
      "4800\n",
      "4900\n",
      "5000\n",
      "5100\n",
      "5200\n",
      "5300\n",
      "5400\n",
      "5500\n",
      "5600\n",
      "5700\n",
      "5800\n",
      "5900\n",
      "6000\n",
      "6100\n",
      "6200\n",
      "6300\n",
      "6400\n",
      "6500\n",
      "6600\n"
     ]
    }
   ],
   "source": [
    "pssm_data = np.load(\"../seq2seq/gen_seq/TR6614_base.npy\")\n",
    "formatted_data = create_new_encoding(pmap, pssm_data)"
   ]
  },
  {
   "cell_type": "code",
   "execution_count": 36,
   "metadata": {},
   "outputs": [],
   "source": [
    "with open('TR6614_s2s_base.json', 'w') as outfile:\n",
    "    json.dump(formatted_data, outfile)"
   ]
  },
  {
   "cell_type": "code",
   "execution_count": 17,
   "metadata": {},
   "outputs": [],
   "source": [
    "import json"
   ]
  },
  {
   "cell_type": "code",
   "execution_count": null,
   "metadata": {},
   "outputs": [],
   "source": []
  }
 ],
 "metadata": {
  "kernelspec": {
   "display_name": "Python 3",
   "language": "python",
   "name": "python3"
  },
  "language_info": {
   "codemirror_mode": {
    "name": "ipython",
    "version": 3
   },
   "file_extension": ".py",
   "mimetype": "text/x-python",
   "name": "python",
   "nbconvert_exporter": "python",
   "pygments_lexer": "ipython3",
   "version": "3.7.6"
  }
 },
 "nbformat": 4,
 "nbformat_minor": 4
}
