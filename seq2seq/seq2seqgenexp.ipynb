{
 "cells": [
  {
   "cell_type": "code",
   "execution_count": 1,
   "metadata": {},
   "outputs": [],
   "source": [
    "import json\n",
    "import numpy as np\n",
    "from data_loader import get_loader\n",
    "import os\n",
    "import torch"
   ]
  },
  {
   "cell_type": "code",
   "execution_count": 2,
   "metadata": {},
   "outputs": [],
   "source": [
    "experiment = \"base\"\n",
    "\n",
    "# base architecture\n",
    "if \"base\" in experiment:\n",
    "    from configs import base_config as cfg\n",
    "else:\n",
    "    experiment = \"dummy\"\n",
    "\n",
    "# Get argument from config\n",
    "cfg = cfg.cfg\n",
    "num_workers = cfg[\"num_workers\"]\n",
    "epochs = cfg[\"epochs\"]\n",
    "model_type = experiment\n",
    "data_path = \"../preprocess/TR6614_no_pssm_onedim.json\"\n",
    "batch_size = 2"
   ]
  },
  {
   "cell_type": "code",
   "execution_count": 3,
   "metadata": {},
   "outputs": [],
   "source": [
    "data = json.load(open(\"../preprocess/TR6614_no_pssm_onedim.json\", \"r\"))\n",
    "ids = np.arange(len(data))"
   ]
  },
  {
   "cell_type": "code",
   "execution_count": 4,
   "metadata": {},
   "outputs": [],
   "source": [
    "experiment = \"dummy\""
   ]
  },
  {
   "cell_type": "code",
   "execution_count": 5,
   "metadata": {},
   "outputs": [
    {
     "name": "stdout",
     "output_type": "stream",
     "text": [
      "Loading 0/5 proteins\n",
      "5 5 5\n",
      "Model exists. Loading from models/base/latest_model.pt\n"
     ]
    }
   ],
   "source": [
    "\n",
    "if experiment == \"dummy\":\n",
    "    loader, _ = get_loader(protein_data=data,\n",
    "                           ids=[0, 1, 2, 3, 5],\n",
    "                           batch_size=batch_size,\n",
    "                           shuffle=False,\n",
    "                           num_workers=num_workers)\n",
    "else:\n",
    "    loader, _ = get_loader(protein_data=data,\n",
    "                           ids=ids,\n",
    "                           batch_size=batch_size,\n",
    "                           shuffle=False,\n",
    "                           num_workers=num_workers)\n",
    "\n",
    "latest_model_path = os.path.join(\"models\", model_type, \"latest_model.pt\")\n",
    "\n",
    "if os.path.exists(latest_model_path):\n",
    "    print(\"Model exists. Loading from {0}\".format(latest_model_path))\n",
    "    if torch.cuda.is_available():\n",
    "        model = torch.load(latest_model_path)\n",
    "        device = \"cuda\"\n",
    "    else:\n",
    "        model = torch.load(latest_model_path, map_location=torch.device('cpu'))\n",
    "        device = \"cpu\"\n",
    "else:\n",
    "    print(\"Model not trained\")\n",
    "    print(\"Exiting...\")\n",
    "\n",
    "# generated_sequences = gen(model, loader, device)\n",
    "\n",
    "# with open(stats_path, \"rb\") as f:\n",
    "#     stats_dict = pkl.load(f)\n",
    "\n",
    "# stats_dict[\"test\"][\"acc\"] = acc\n",
    "\n",
    "# with open(stats_path, \"wb\") as f:\n",
    "#     pkl.dump(stats_dict, f)"
   ]
  },
  {
   "cell_type": "code",
   "execution_count": 6,
   "metadata": {},
   "outputs": [],
   "source": [
    "def gen(model, loader, device):\n",
    "    fmt_string = \"Batch[{0}/{1}]\"\n",
    "    \n",
    "    gen_sequences = []\n",
    "    model.eval()\n",
    "    num_batches = len(loader)\n",
    "    \n",
    "    for iter, (X, _, _) in enumerate(loader):\n",
    "        batch_loss = 0\n",
    "\n",
    "        X = X.permute([0, 2, 1]).long().to(device)\n",
    "        outputs = model.gen(X)\n",
    "\n",
    "        print(fmt_string.format(iter, num_batches))\n",
    "        gen_sequences.append(outputs.detach().cpu().numpy())\n",
    "\n",
    "\n",
    "    return gen_sequences\n"
   ]
  },
  {
   "cell_type": "code",
   "execution_count": 7,
   "metadata": {},
   "outputs": [
    {
     "name": "stderr",
     "output_type": "stream",
     "text": [
      "/opt/conda/lib/python3.7/site-packages/torch/nn/functional.py:1350: UserWarning: nn.functional.sigmoid is deprecated. Use torch.sigmoid instead.\n",
      "  warnings.warn(\"nn.functional.sigmoid is deprecated. Use torch.sigmoid instead.\")\n"
     ]
    },
    {
     "name": "stdout",
     "output_type": "stream",
     "text": [
      "Batch[0/3]\n",
      "Batch[1/3]\n",
      "Batch[2/3]\n"
     ]
    }
   ],
   "source": [
    "PSSM = gen(model, loader, device)"
   ]
  },
  {
   "cell_type": "code",
   "execution_count": 8,
   "metadata": {},
   "outputs": [],
   "source": [
    "PSSM = np.vstack(PSSM)"
   ]
  },
  {
   "cell_type": "code",
   "execution_count": 10,
   "metadata": {},
   "outputs": [
    {
     "data": {
      "text/plain": [
       "(5, 700, 21)"
      ]
     },
     "execution_count": 10,
     "metadata": {},
     "output_type": "execute_result"
    }
   ],
   "source": [
    "PSSM.shape"
   ]
  },
  {
   "cell_type": "code",
   "execution_count": 11,
   "metadata": {},
   "outputs": [],
   "source": [
    "one_dim_conservation = np.log(21) + np.sum(PSSM * np.log(PSSM + 1e-4), axis=2, keepdims=True)"
   ]
  },
  {
   "cell_type": "code",
   "execution_count": 17,
   "metadata": {},
   "outputs": [],
   "source": [
    "PSSM = np.concatenate([PSSM, one_dim_conservation], axis=2)"
   ]
  },
  {
   "cell_type": "code",
   "execution_count": 18,
   "metadata": {},
   "outputs": [
    {
     "data": {
      "text/plain": [
       "(5, 700, 22)"
      ]
     },
     "execution_count": 18,
     "metadata": {},
     "output_type": "execute_result"
    }
   ],
   "source": [
    "PSSM.shape"
   ]
  },
  {
   "cell_type": "code",
   "execution_count": 12,
   "metadata": {},
   "outputs": [],
   "source": [
    "if not os.path.exists(\"gen_seq\"):\n",
    "    os.mkdir(\"gen_seq\")"
   ]
  },
  {
   "cell_type": "code",
   "execution_count": null,
   "metadata": {},
   "outputs": [],
   "source": []
  }
 ],
 "metadata": {
  "kernelspec": {
   "display_name": "Python 3",
   "language": "python",
   "name": "python3"
  },
  "language_info": {
   "codemirror_mode": {
    "name": "ipython",
    "version": 3
   },
   "file_extension": ".py",
   "mimetype": "text/x-python",
   "name": "python",
   "nbconvert_exporter": "python",
   "pygments_lexer": "ipython3",
   "version": "3.7.6"
  }
 },
 "nbformat": 4,
 "nbformat_minor": 4
}
